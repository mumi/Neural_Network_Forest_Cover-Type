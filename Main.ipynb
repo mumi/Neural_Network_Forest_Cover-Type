{
 "cells": [
  {
   "cell_type": "markdown",
   "metadata": {},
   "source": [
    "# KI Team 11\n",
    "Inhalt:\n",
    "- Model 0\n",
    "- Model 1\n",
    "- Model 2\n",
    "- Testdaten Validierung"
   ]
  },
  {
   "cell_type": "code",
   "execution_count": 1,
   "metadata": {
    "collapsed": false,
    "jupyter": {
     "outputs_hidden": false
    },
    "pycharm": {
     "name": "#%%\n"
    }
   },
   "outputs": [
    {
     "name": "stderr",
     "output_type": "stream",
     "text": [
      "2022-12-03 12:24:53.551927: I tensorflow/core/platform/cpu_feature_guard.cc:193] This TensorFlow binary is optimized with oneAPI Deep Neural Network Library (oneDNN) to use the following CPU instructions in performance-critical operations:  SSE4.1 SSE4.2 AVX AVX2 AVX512F FMA\n",
      "To enable them in other operations, rebuild TensorFlow with the appropriate compiler flags.\n"
     ]
    }
   ],
   "source": [
    "import pickle\n",
    "import pandas as pd\n",
    "import numpy as np\n",
    "import seaborn as sns\n",
    "\n",
    "# for neural networks\n",
    "import tensorflow as tf\n",
    "from tensorflow.keras.backend import clear_session\n",
    "from tensorflow.keras.layers import Dense, Input\n",
    "from tensorflow.keras.layers import Dropout\n",
    "from tensorflow.keras.models import Sequential\n",
    "from tensorflow.keras.optimizers import Adam\n",
    "from sklearn.model_selection import train_test_split\n",
    "from sklearn.preprocessing import StandardScaler\n",
    "from sklearn.metrics import confusion_matrix, classification_report\n",
    "from matplotlib import pyplot as plt\n",
    "\n",
    "data = pd.read_csv('train.csv')\n",
    "X = data.values[:, 1:-1]\n",
    "y = data['Cover_Type'].values\n",
    "x_train, x_val, y_train, y_val = train_test_split(X, y)\n",
    "# scale the data\n",
    "scaler = StandardScaler()\n",
    "# Fit only to the training data\n",
    "scaler.fit(x_train)\n",
    "# save fitted scaler, because you need it later for the test dataset\n",
    "pickle.dump(scaler, open(\"scaler.p\", \"wb\"))\n",
    "best_accuracy_so_far_model0 = -100\n",
    "best_accuracy_so_far_model1 = -100\n",
    "best_accuracy_so_far_model2 = -100\n",
    "# Now apply the transformations to the data:\n",
    "X_train = scaler.transform(x_train)\n",
    "X_val = scaler.transform(x_val)"
   ]
  },
  {
   "cell_type": "markdown",
   "metadata": {
    "jupyter": {
     "outputs_hidden": false
    },
    "pycharm": {
     "name": "#%% md\n"
    }
   },
   "source": [
    "# Model 0 Relu\n",
    "## Eigenschaften:\n",
    "* Input Layer: 54 Neuronen\n",
    "* Anzahl Hidden Layers: 2\n",
    "* Dropout: 0.1\n",
    "* Anzahl Neuronen pro Hidden Layer: 16, 8\n",
    "* Output Layer: 8 Neuronen\n",
    "* Aktivierungsfunktionen: Relu, Sigmoid\n",
    "* Optimizer: Adam\n",
    "* Loss: Sparse Categorical Crossentropy\n",
    "* Metrics: Accuracy\n",
    "* Epochs: 50\n",
    "* Batch Size: 20\n",
    "\n",
    "## Ergebnis:\n",
    "# ≈ 74% Accuracy gegen die Validierungsteil der Trainingsdaten\n",
    "# ≈ 36% Accuracy gegen die Testdaten"
   ]
  },
  {
   "cell_type": "code",
   "execution_count": 2,
   "metadata": {
    "collapsed": true,
    "jupyter": {
     "outputs_hidden": true
    },
    "tags": []
   },
   "outputs": [
    {
     "name": "stdout",
     "output_type": "stream",
     "text": [
      "Epoch 1/50\n"
     ]
    },
    {
     "name": "stderr",
     "output_type": "stream",
     "text": [
      "2022-12-03 12:24:54.943653: I tensorflow/core/platform/cpu_feature_guard.cc:193] This TensorFlow binary is optimized with oneAPI Deep Neural Network Library (oneDNN) to use the following CPU instructions in performance-critical operations:  SSE4.1 SSE4.2 AVX AVX2 AVX512F FMA\n",
      "To enable them in other operations, rebuild TensorFlow with the appropriate compiler flags.\n"
     ]
    },
    {
     "name": "stdout",
     "output_type": "stream",
     "text": [
      "567/567 [==============================] - 1s 1ms/step - loss: 1.5887 - accuracy: 0.3696 - val_loss: 1.0850 - val_accuracy: 0.5534\n",
      "Epoch 2/50\n",
      "567/567 [==============================] - 1s 898us/step - loss: 1.0715 - accuracy: 0.5567 - val_loss: 0.9136 - val_accuracy: 0.6172\n",
      "Epoch 3/50\n",
      "567/567 [==============================] - 1s 920us/step - loss: 0.9692 - accuracy: 0.5880 - val_loss: 0.8631 - val_accuracy: 0.6280\n",
      "Epoch 4/50\n",
      "567/567 [==============================] - 0s 868us/step - loss: 0.9268 - accuracy: 0.6061 - val_loss: 0.8319 - val_accuracy: 0.6487\n",
      "Epoch 5/50\n",
      "567/567 [==============================] - 1s 890us/step - loss: 0.8972 - accuracy: 0.6164 - val_loss: 0.8032 - val_accuracy: 0.6484\n",
      "Epoch 6/50\n",
      "567/567 [==============================] - 1s 882us/step - loss: 0.8751 - accuracy: 0.6231 - val_loss: 0.7896 - val_accuracy: 0.6608\n",
      "Epoch 7/50\n",
      "567/567 [==============================] - 1s 891us/step - loss: 0.8599 - accuracy: 0.6347 - val_loss: 0.7748 - val_accuracy: 0.6772\n",
      "Epoch 8/50\n",
      "567/567 [==============================] - 1s 887us/step - loss: 0.8437 - accuracy: 0.6423 - val_loss: 0.7662 - val_accuracy: 0.6728\n",
      "Epoch 9/50\n",
      "567/567 [==============================] - 0s 875us/step - loss: 0.8404 - accuracy: 0.6430 - val_loss: 0.7534 - val_accuracy: 0.6812\n",
      "Epoch 10/50\n",
      "567/567 [==============================] - 1s 894us/step - loss: 0.8197 - accuracy: 0.6601 - val_loss: 0.7465 - val_accuracy: 0.6915\n",
      "Epoch 11/50\n",
      "567/567 [==============================] - 0s 856us/step - loss: 0.8162 - accuracy: 0.6527 - val_loss: 0.7380 - val_accuracy: 0.6884\n",
      "Epoch 12/50\n",
      "567/567 [==============================] - 1s 897us/step - loss: 0.8071 - accuracy: 0.6644 - val_loss: 0.7346 - val_accuracy: 0.7008\n",
      "Epoch 13/50\n",
      "567/567 [==============================] - 0s 860us/step - loss: 0.8008 - accuracy: 0.6683 - val_loss: 0.7275 - val_accuracy: 0.7061\n",
      "Epoch 14/50\n",
      "567/567 [==============================] - 0s 876us/step - loss: 0.7951 - accuracy: 0.6680 - val_loss: 0.7248 - val_accuracy: 0.7042\n",
      "Epoch 15/50\n",
      "567/567 [==============================] - 0s 878us/step - loss: 0.7852 - accuracy: 0.6726 - val_loss: 0.7174 - val_accuracy: 0.7093\n",
      "Epoch 16/50\n",
      "567/567 [==============================] - 1s 890us/step - loss: 0.7847 - accuracy: 0.6728 - val_loss: 0.7122 - val_accuracy: 0.7071\n",
      "Epoch 17/50\n",
      "567/567 [==============================] - 1s 932us/step - loss: 0.7835 - accuracy: 0.6765 - val_loss: 0.7092 - val_accuracy: 0.7132\n",
      "Epoch 18/50\n",
      "567/567 [==============================] - 1s 927us/step - loss: 0.7701 - accuracy: 0.6795 - val_loss: 0.7019 - val_accuracy: 0.7132\n",
      "Epoch 19/50\n",
      "567/567 [==============================] - 0s 869us/step - loss: 0.7667 - accuracy: 0.6776 - val_loss: 0.7043 - val_accuracy: 0.7153\n",
      "Epoch 20/50\n",
      "567/567 [==============================] - 0s 841us/step - loss: 0.7658 - accuracy: 0.6805 - val_loss: 0.6972 - val_accuracy: 0.7222\n",
      "Epoch 21/50\n",
      "567/567 [==============================] - 0s 841us/step - loss: 0.7660 - accuracy: 0.6815 - val_loss: 0.6889 - val_accuracy: 0.7238\n",
      "Epoch 22/50\n",
      "567/567 [==============================] - 0s 859us/step - loss: 0.7565 - accuracy: 0.6802 - val_loss: 0.6921 - val_accuracy: 0.7172\n",
      "Epoch 23/50\n",
      "567/567 [==============================] - 0s 843us/step - loss: 0.7584 - accuracy: 0.6809 - val_loss: 0.6958 - val_accuracy: 0.7249\n",
      "Epoch 24/50\n",
      "567/567 [==============================] - 0s 871us/step - loss: 0.7552 - accuracy: 0.6817 - val_loss: 0.6932 - val_accuracy: 0.7288\n",
      "Epoch 25/50\n",
      "567/567 [==============================] - 1s 922us/step - loss: 0.7577 - accuracy: 0.6861 - val_loss: 0.6892 - val_accuracy: 0.7201\n",
      "Epoch 26/50\n",
      "567/567 [==============================] - 1s 976us/step - loss: 0.7527 - accuracy: 0.6859 - val_loss: 0.6831 - val_accuracy: 0.7310\n",
      "Epoch 27/50\n",
      "567/567 [==============================] - 1s 888us/step - loss: 0.7488 - accuracy: 0.6803 - val_loss: 0.6828 - val_accuracy: 0.7315\n",
      "Epoch 28/50\n",
      "567/567 [==============================] - 1s 966us/step - loss: 0.7550 - accuracy: 0.6807 - val_loss: 0.6814 - val_accuracy: 0.7296\n",
      "Epoch 29/50\n",
      "567/567 [==============================] - 0s 855us/step - loss: 0.7447 - accuracy: 0.6866 - val_loss: 0.6836 - val_accuracy: 0.7299\n",
      "Epoch 30/50\n",
      "567/567 [==============================] - 0s 868us/step - loss: 0.7497 - accuracy: 0.6904 - val_loss: 0.6773 - val_accuracy: 0.7352\n",
      "Epoch 31/50\n",
      "567/567 [==============================] - 0s 877us/step - loss: 0.7399 - accuracy: 0.6903 - val_loss: 0.6761 - val_accuracy: 0.7397\n",
      "Epoch 32/50\n",
      "567/567 [==============================] - 1s 930us/step - loss: 0.7415 - accuracy: 0.6899 - val_loss: 0.6799 - val_accuracy: 0.7320\n",
      "Epoch 33/50\n",
      "567/567 [==============================] - 1s 925us/step - loss: 0.7418 - accuracy: 0.6907 - val_loss: 0.6751 - val_accuracy: 0.7368\n",
      "Epoch 34/50\n",
      "567/567 [==============================] - 1s 920us/step - loss: 0.7419 - accuracy: 0.6962 - val_loss: 0.6817 - val_accuracy: 0.7378\n",
      "Epoch 35/50\n",
      "567/567 [==============================] - 1s 918us/step - loss: 0.7450 - accuracy: 0.6906 - val_loss: 0.6793 - val_accuracy: 0.7243\n",
      "Epoch 36/50\n",
      "567/567 [==============================] - 1s 959us/step - loss: 0.7354 - accuracy: 0.6983 - val_loss: 0.6759 - val_accuracy: 0.7376\n",
      "Epoch 37/50\n",
      "567/567 [==============================] - 0s 878us/step - loss: 0.7393 - accuracy: 0.6884 - val_loss: 0.6721 - val_accuracy: 0.7347\n",
      "Epoch 38/50\n",
      "567/567 [==============================] - 0s 842us/step - loss: 0.7566 - accuracy: 0.6912 - val_loss: 0.6744 - val_accuracy: 0.7312\n",
      "Epoch 39/50\n",
      "567/567 [==============================] - 0s 840us/step - loss: 0.7355 - accuracy: 0.6935 - val_loss: 0.6720 - val_accuracy: 0.7357\n",
      "Epoch 40/50\n",
      "567/567 [==============================] - 1s 906us/step - loss: 0.7482 - accuracy: 0.6896 - val_loss: 0.6836 - val_accuracy: 0.7392\n",
      "Epoch 41/50\n",
      "567/567 [==============================] - 1s 928us/step - loss: 0.7310 - accuracy: 0.6930 - val_loss: 0.6739 - val_accuracy: 0.7354\n",
      "Epoch 42/50\n",
      "567/567 [==============================] - 1s 903us/step - loss: 0.7332 - accuracy: 0.6935 - val_loss: 0.6840 - val_accuracy: 0.7328\n",
      "Epoch 43/50\n",
      "567/567 [==============================] - 0s 849us/step - loss: 0.7454 - accuracy: 0.6904 - val_loss: 0.6818 - val_accuracy: 0.7437\n",
      "Epoch 44/50\n",
      "567/567 [==============================] - 1s 908us/step - loss: 0.7382 - accuracy: 0.6948 - val_loss: 0.6773 - val_accuracy: 0.7323\n",
      "Epoch 45/50\n",
      "567/567 [==============================] - 0s 849us/step - loss: 0.7484 - accuracy: 0.6884 - val_loss: 0.6783 - val_accuracy: 0.7450\n",
      "Epoch 46/50\n",
      "567/567 [==============================] - 1s 889us/step - loss: 0.7398 - accuracy: 0.6975 - val_loss: 0.6777 - val_accuracy: 0.7399\n",
      "Epoch 47/50\n",
      "567/567 [==============================] - 0s 863us/step - loss: 0.7379 - accuracy: 0.6954 - val_loss: 0.6688 - val_accuracy: 0.7421\n",
      "Epoch 48/50\n",
      "567/567 [==============================] - 1s 955us/step - loss: 0.7333 - accuracy: 0.6947 - val_loss: 0.6749 - val_accuracy: 0.7437\n",
      "Epoch 49/50\n",
      "567/567 [==============================] - 1s 947us/step - loss: 0.7319 - accuracy: 0.6957 - val_loss: 0.6723 - val_accuracy: 0.7357\n",
      "Epoch 50/50\n",
      "567/567 [==============================] - 0s 865us/step - loss: 0.7497 - accuracy: 0.6972 - val_loss: 0.6772 - val_accuracy: 0.7222\n",
      "INFO:tensorflow:Assets written to: Relu_Softmax.mdl/assets\n"
     ]
    }
   ],
   "source": [
    "BATCHSIZE = 20\n",
    "EPOCHS = 50\n",
    "clear_session()\n",
    "\n",
    "# create neural network\n",
    "model = Sequential()\n",
    "\n",
    "model.add(Input(shape=54))\n",
    "model.add(Dense(units = 16, activation=\"relu\"))\n",
    "model.add(Dropout(0.1))\n",
    "model.add(Dense(units = 8, activation =\"relu\"))\n",
    "model.add(Dropout(0.1))\n",
    "model.add(Dense(units = 8, kernel_initializer=\"uniform\", activation='sigmoid'))\n",
    "\n",
    "learning_rate = 0.001\n",
    "model.compile(\n",
    "    loss=\"sparse_categorical_crossentropy\",\n",
    "    optimizer=\"rmsprop\",\n",
    "    metrics=[\"accuracy\"],\n",
    ")\n",
    "\n",
    "# train neural network\n",
    "model.fit(\n",
    "    X_train,\n",
    "    y_train,\n",
    "    validation_data=(X_val, y_val),\n",
    "    shuffle=True,\n",
    "    batch_size=BATCHSIZE,\n",
    "    epochs=EPOCHS,\n",
    "    verbose = True\n",
    ")\n",
    "\n",
    "# Evaluate the model accuracy on the validation set.\n",
    "score = model.evaluate(X_val, y_val, verbose=0)\n",
    "\n",
    "# save best model so far to be able to use the best model later to predict with test data\n",
    "if score[1] >= best_accuracy_so_far_model0:\n",
    "    tf.keras.models.save_model(model, 'Relu_Softmax.mdl')\n",
    "    best_accuracy_so_far_model0 = score[1]"
   ]
  },
  {
   "cell_type": "markdown",
   "metadata": {},
   "source": [
    "# Sigmoid Tanh Vergleich (Aktivierungsfunktionen)"
   ]
  },
  {
   "cell_type": "markdown",
   "metadata": {},
   "source": [
    "<img src=\"https://img001.prntscr.com/file/img001/BR0WRfJbSlCRpLLhWE7XYw.png\">"
   ]
  },
  {
   "cell_type": "markdown",
   "metadata": {
    "jupyter": {
     "outputs_hidden": false
    },
    "pycharm": {
     "name": "#%% md\n"
    }
   },
   "source": [
    "# Model 1 Sigmoid_Softmax\n",
    "## Eigenschaften:\n",
    "* Input Layer: 54 Neuronen\n",
    "* Anzahl Hidden Layers: 4\n",
    "* Anzahl Neuronen pro Hidden Layer: 300, 200, 100, 50\n",
    "* Output Layer: 8 Neuronen\n",
    "* Aktivierungsfunktionen: Sigmoid, Softmax\n",
    "* Optimizer: Adam\n",
    "* Loss: Sparse Categorical Crossentropy\n",
    "* Metrics: Accuracy\n",
    "* Batch Size: 20\n",
    "* Epochs: 70\n",
    "\n",
    "## Ergebnis:\n",
    "# ≈ 85% Accuracy gegen die Validierungsteil der Trainingsdaten\n",
    "# ≈ 47% Accuracy gegen die Testdaten\n"
   ]
  },
  {
   "cell_type": "code",
   "execution_count": null,
   "metadata": {},
   "outputs": [],
   "source": [
    "BATCHSIZE = 20\n",
    "EPOCHS = 70\n",
    "clear_session()\n",
    "\n",
    "# create neural network\n",
    "model = Sequential()\n",
    "model.add(Input(shape=54))\n",
    "model.add(Dense(units = 300, activation=\"sigmoid\"))\n",
    "model.add(Dense(units = 200, activation =\"sigmoid\"))\n",
    "model.add(Dense(units = 100, activation =\"sigmoid\"))\n",
    "model.add(Dense(units = 50, activation =\"sigmoid\"))\n",
    "model.add(Dense(units = 8, kernel_initializer=\"uniform\", activation='softmax'))\n",
    "\n",
    "learning_rate = 0.001\n",
    "model.compile(\n",
    "    loss=\"sparse_categorical_crossentropy\",\n",
    "    optimizer=Adam(learning_rate=learning_rate),\n",
    "    metrics=[\"accuracy\"],\n",
    ")\n",
    "\n",
    "# train neural network\n",
    "model.fit(\n",
    "    X_train,\n",
    "    y_train,\n",
    "    validation_data=(X_val, y_val),\n",
    "    shuffle=True,\n",
    "    batch_size=BATCHSIZE,\n",
    "    epochs=EPOCHS,\n",
    "    verbose = True\n",
    ")\n",
    "\n",
    "# Evaluate the model accuracy on the validation set.\n",
    "score = model.evaluate(X_val, y_val, verbose=0)\n",
    "\n",
    "# save best model so far to be able to use the best model later to predict with test data\n",
    "if score[1] >= best_accuracy_so_far_model1:\n",
    "    tf.keras.models.save_model(model, 'Sigmoid_Softmax.mdl')\n",
    "    best_accuracy_so_far_model1 = score[1]\n"
   ]
  },
  {
   "cell_type": "markdown",
   "metadata": {},
   "source": [
    "<h1>Erkenntnisse zu Sigmoid/Softmax mit adaptiver Lernrate</h1>\n",
    "<img src=\"https://img001.prntscr.com/file/img001/yslNRF4ZQ9edKPvKFSQ_vA.png\" width=\"1600\">\n",
    "<h2>Eine zu hohe Lernrate hat zufolge, dass das Lokale Minimum verfehlt wird. Daher sollte man die Lernrate entsprechend nicht zu hoch wählen.</h2>"
   ]
  },
  {
   "cell_type": "markdown",
   "metadata": {
    "jupyter": {
     "outputs_hidden": false
    },
    "pycharm": {
     "name": "#%% md\n"
    }
   },
   "source": [
    "# Model 2 Tanh_Softmax\n",
    "## Eigenschaften:\n",
    "* Input Layer: 54 Neuronen\n",
    "* Anzahl Hidden Layers: 4\n",
    "* Anzahl Neuronen pro Hidden Layer: 300, 200, 100, 50\n",
    "* Output Layer: 8 Neuronen\n",
    "* Aktivierungsfunktionen: Tanh, Softmax\n",
    "* Optimizer: rmsprop\n",
    "* Loss: Sparse Categorical Crossentropy\n",
    "* Metrics: Accuracy\n",
    "* Batch Size: 20\n",
    "* Epochs: 50\n",
    "\n",
    "## Ergebnisse:\n",
    "### ≈ 85% Accuracy gegen den Validierungsteil der Trainingsdaten\n",
    "### ≈ 52% Accuracy gegen die Testdaten\n"
   ]
  },
  {
   "cell_type": "code",
   "execution_count": null,
   "metadata": {},
   "outputs": [],
   "source": [
    "BATCHSIZE = 20\n",
    "EPOCHS = 50\n",
    "clear_session()\n",
    "\n",
    "# create neural network\n",
    "model = Sequential()\n",
    "model.add(Input(shape=54))\n",
    "model.add(Dense(units = 300, activation=\"tanh\"))\n",
    "model.add(Dense(units = 200, activation =\"tanh\"))\n",
    "model.add(Dense(units = 100, activation =\"tanh\"))\n",
    "model.add(Dense(units = 50, activation =\"tanh\"))\n",
    "model.add(Dense(units = 8, kernel_initializer=\"uniform\", activation='softmax'))\n",
    "\n",
    "learning_rate = 0.001\n",
    "model.compile(\n",
    "    loss=\"sparse_categorical_crossentropy\",\n",
    "    optimizer=\"rmsprop\",\n",
    "    metrics=[\"accuracy\"],\n",
    ")\n",
    "\n",
    "# train neural network\n",
    "model.fit(\n",
    "    X_train,\n",
    "    y_train,\n",
    "    validation_data=(X_val, y_val),\n",
    "    shuffle=True,\n",
    "    batch_size=BATCHSIZE,\n",
    "    epochs=EPOCHS,\n",
    "    verbose = True\n",
    ")\n",
    "\n",
    "# Evaluate the model accuracy on the validation set.\n",
    "score = model.evaluate(X_val, y_val, verbose=0)\n",
    "\n",
    "# save best model so far to be able to use the best model later to predict with test data\n",
    "if score[1] >= best_accuracy_so_far_model2:\n",
    "    tf.keras.models.save_model(model, 'TanH_Softmax.mdl')\n",
    "    best_accuracy_so_far_model2 = score[1]"
   ]
  },
  {
   "cell_type": "markdown",
   "metadata": {},
   "source": [
    "# Erkenntnisse:\n",
    "### - Model 0 hat eine schlechte Accuracy, weil durch die Aktivierungsfunktion Relu negative Werte auf 0 gesetzt werden. Relu würde negative Werte auf 0 mappen, das führt zu toten Neuronen, hat aber einen Geschwindigkeitsvorteil.\n",
    "### - Model 2 ist schneller als Model 1, denn die Accuracy von 85% wird schon bei 50 Epochen erreicht."
   ]
  },
  {
   "cell_type": "markdown",
   "metadata": {
    "jupyter": {
     "outputs_hidden": false
    }
   },
   "source": [
    "# Validierung des Models"
   ]
  },
  {
   "cell_type": "code",
   "execution_count": 5,
   "metadata": {
    "collapsed": false,
    "jupyter": {
     "outputs_hidden": false
    },
    "pycharm": {
     "name": "#%%\n"
    }
   },
   "outputs": [
    {
     "name": "stdout",
     "output_type": "stream",
     "text": [
      "17685/17685 [==============================] - 16s 918us/step\n"
     ]
    }
   ],
   "source": [
    "## Load model with best accuracy\n",
    "model = tf.keras.models.load_model('TanH_Softmax.mdl')\n",
    "## Load Test DataSet\n",
    "test_data = pd.read_csv('test.csv')\n",
    "X_test = test_data.values[:, 1:-1]\n",
    "y_test = test_data['Cover_Type'].values\n",
    "\n",
    "scaler = StandardScaler()\n",
    "## Fit only to the training data\n",
    "scaler.fit(X_test)\n",
    "## important: preprocessing of test dataset has to be the same as for the training dataset\n",
    "X_test = scaler.transform(X_test)\n",
    "y_pred = model.predict(X_test)\n",
    "## create labels out of predictions\n",
    "y_pred_labels = np.argmax(y_pred, axis=1)"
   ]
  },
  {
   "cell_type": "code",
   "execution_count": 8,
   "metadata": {
    "pycharm": {
     "name": "#%%\n"
    }
   },
   "outputs": [
    {
     "name": "stdout",
     "output_type": "stream",
     "text": [
      "Our accuracy against the provided testdata is 47.22809299300927%\n",
      "              precision    recall  f1-score   support\n",
      "\n",
      "           1       0.78      0.51      0.62    209680\n",
      "           2       0.69      0.44      0.54    281141\n",
      "           3       0.20      0.37      0.26     33594\n",
      "           4       0.03      0.89      0.05       587\n",
      "           5       0.01      0.05      0.01      7333\n",
      "           6       0.09      0.50      0.15     15207\n",
      "           7       0.53      0.83      0.64     18350\n",
      "\n",
      "    accuracy                           0.47    565892\n",
      "   macro avg       0.33      0.51      0.32    565892\n",
      "weighted avg       0.66      0.47      0.54    565892\n",
      "\n"
     ]
    },
    {
     "data": {
      "image/png": "[encoded data removed]",
      "text/plain": [
       "<Figure size 640x480 with 2 Axes>"
      ]
     },
     "metadata": {},
     "output_type": "display_data"
    }
   ],
   "source": [
    "sns.heatmap(cm, annot=True)\n",
    "plt.savefig('confmat.png')\n",
    "cm = confusion_matrix(y_test, y_pred_labels)\n",
    "print(\"Our accuracy against the provided testdata is {}%\".format(((cm[0][0] + cm[1][1] + cm[2][2]+ cm[3][3]+ cm[4][4]+ cm[5][5]+ cm[6][6]) / cm.sum()) * 100))\n",
    "print(classification_report(y_test, y_pred_labels))"
   ]
  }
 ],
 "metadata": {
  "kernelspec": {
   "display_name": "Python 3.8 / KI",
   "language": "python",
   "name": "py38-ki"
  },
  "language_info": {
   "codemirror_mode": {
    "name": "ipython",
    "version": 3
   },
   "file_extension": ".py",
   "mimetype": "text/x-python",
   "name": "python",
   "nbconvert_exporter": "python",
   "pygments_lexer": "ipython3",
   "version": "3.8.15"
  }
 },
 "nbformat": 4,
 "nbformat_minor": 4
}
