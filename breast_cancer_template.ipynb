{
 "cells": [
  {
   "cell_type": "markdown",
   "source": [
    "# Breast Cancer Dataset Template\n",
    "Optuna example that optimizes a neural network classifier configuration for the breast cancer dataset using Keras."
   ],
   "metadata": {
    "collapsed": false
   }
  },
  {
   "cell_type": "code",
   "execution_count": 1,
   "outputs": [],
   "source": [
    "import optuna"
   ],
   "metadata": {
    "collapsed": false
   }
  },
  {
   "cell_type": "markdown",
   "source": [
    "Import more useful libraries"
   ],
   "metadata": {
    "collapsed": false
   }
  },
  {
   "cell_type": "code",
   "execution_count": 2,
   "outputs": [],
   "source": [
    "import pickle\n",
    "import numpy as np\n",
    "import pandas as pd\n",
    "data = pd.read_csv(\"train.csv\")\n",
    "# for visualization\n",
    "import matplotlib.pyplot as plt\n",
    "import seaborn as sns\n",
    "\n",
    "# for neural networks\n",
    "import tensorflow as tf\n",
    "from tensorflow import keras\n",
    "from tensorflow.keras.backend import clear_session\n",
    "from tensorflow.keras.layers import Dense, Input\n",
    "from tensorflow.keras.layers import Dropout\n",
    "from tensorflow.keras.models import Sequential\n",
    "from tensorflow.keras.optimizers import Adam\n",
    "\n",
    "# train_test_split was moved from cross_validation to model_selection in 0.18\n",
    "from sklearn.model_selection import train_test_split\n",
    "from sklearn.preprocessing import StandardScaler\n",
    "from sklearn.metrics import confusion_matrix, classification_report"
   ],
   "metadata": {
    "collapsed": false
   }
  },
  {
   "cell_type": "code",
   "execution_count": 3,
   "outputs": [],
   "source": [
    "BATCHSIZE = 100\n",
    "# number of epochs\n",
    "EPOCHS = 10\n",
    "\n",
    "# needed to save best model so far\n",
    "global best_accuracy_so_far"
   ],
   "metadata": {
    "collapsed": false
   }
  },
  {
   "cell_type": "markdown",
   "source": [
    "## The objective function for optuna to optimize the hyperparameters"
   ],
   "metadata": {
    "collapsed": false
   }
  },
  {
   "cell_type": "code",
   "execution_count": 5,
   "outputs": [],
   "source": [
    "def objective(trial):\n",
    "    global best_accuracy_so_far\n",
    "\n",
    "    # Clear clutter from previous Keras session graphs.\n",
    "    clear_session()\n",
    "\n",
    "    cancer = load_breast_cancer()\n",
    "\n",
    "    # get features X and labels y\n",
    "    X = cancer['data']\n",
    "    y = cancer['target']\n",
    "\n",
    "    # split dataset into training and validation datasets\n",
    "    X_train, X_val, y_train, y_val = train_test_split(X, y)\n",
    "\n",
    "    scaler = StandardScaler()\n",
    "    # Fit only to the training data\n",
    "    scaler.fit(X_train)\n",
    "    # save fitted scaler, because you need it later for the test dataset\n",
    "    pickle.dump(scaler, open(\"scaler.p\", \"wb\"))\n",
    "\n",
    "    # Now apply the transformations to the data:\n",
    "    X_train = scaler.transform(X_train)\n",
    "    X_val = scaler.transform(X_val)\n",
    "\n",
    "    # create neural network\n",
    "    model = Sequential()\n",
    "\n",
    "    model.add(Input(shape=30))\n",
    "    model.add(Dense(16, kernel_initializer='uniform', activation='relu'))\n",
    "    model.add(Dropout(0.1))\n",
    "    model.add(Dense(units=trial.suggest_int(\"units\", 8, 24, step=4), kernel_initializer='uniform',\n",
    "                    activation=trial.suggest_categorical(\"activation\", [\"relu\", \"linear\"])))\n",
    "    # Adding dropout to prevent overfitting\n",
    "    model.add(Dropout(rate=trial.suggest_float(\"rate\", 0.0, 0.1, step=0.1)))\n",
    "    model.add(Dense(2, kernel_initializer='uniform', activation='sigmoid'))\n",
    "\n",
    "    # We compile our model with a sampled learning rate.\n",
    "    learning_rate = trial.suggest_float(\"learning_rate\", 1e-5, 1e-1, log=True)\n",
    "    model.compile(\n",
    "        loss=\"sparse_categorical_crossentropy\",\n",
    "        optimizer=Adam(learning_rate=learning_rate),\n",
    "        metrics=[\"accuracy\"],\n",
    "    )\n",
    "\n",
    "    # train neural network\n",
    "    model.fit(\n",
    "        X_train,\n",
    "        y_train,\n",
    "        validation_data=(X_val, y_val),\n",
    "        shuffle=True,\n",
    "        batch_size=BATCHSIZE,\n",
    "        epochs=EPOCHS,\n",
    "        verbose=False,\n",
    "    )\n",
    "\n",
    "    # Evaluate the model accuracy on the validation set.\n",
    "    score = model.evaluate(X_val, y_val, verbose=0)\n",
    "\n",
    "    # save best model so far to be able to use the best model later to predict with test data\n",
    "    if score[1] >= best_accuracy_so_far:\n",
    "        tf.keras.models.save_model(model, '{0}.mdl'.format(trial.number))\n",
    "        best_accuracy_so_far = score[1]\n",
    "\n",
    "    # return accuracy\n",
    "    return score[1]"
   ],
   "metadata": {
    "collapsed": false
   }
  },
  {
   "cell_type": "markdown",
   "source": [
    "# Main Function"
   ],
   "metadata": {
    "collapsed": false
   }
  },
  {
   "cell_type": "markdown",
   "source": [
    "Use optuna to do hyperparameter optimization to find optimal neural network architecture"
   ],
   "metadata": {
    "collapsed": false
   }
  },
  {
   "cell_type": "code",
   "execution_count": 6,
   "outputs": [
    {
     "name": "stderr",
     "output_type": "stream",
     "text": [
      "\u001B[32m[I 2022-11-26 10:51:54,945]\u001B[0m A new study created in memory with name: no-name-238cff23-9969-49dc-a003-beb576a7b8cc\u001B[0m\n",
      "WARNING:absl:Found untraced functions such as _update_step_xla while saving (showing 1 of 1). These functions will not be directly callable after loading.\n"
     ]
    },
    {
     "name": "stdout",
     "output_type": "stream",
     "text": [
      "INFO:tensorflow:Assets written to: 0.mdl\\assets\n"
     ]
    },
    {
     "name": "stderr",
     "output_type": "stream",
     "text": [
      "INFO:tensorflow:Assets written to: 0.mdl\\assets\n",
      "\u001B[32m[I 2022-11-26 10:51:58,958]\u001B[0m Trial 0 finished with value: 0.6363636255264282 and parameters: {'units': 8, 'activation': 'relu', 'rate': 0.1, 'learning_rate': 8.150008979932282e-05}. Best is trial 0 with value: 0.6363636255264282.\u001B[0m\n",
      "WARNING:absl:Found untraced functions such as _update_step_xla while saving (showing 1 of 1). These functions will not be directly callable after loading.\n"
     ]
    },
    {
     "name": "stdout",
     "output_type": "stream",
     "text": [
      "INFO:tensorflow:Assets written to: 1.mdl\\assets\n"
     ]
    },
    {
     "name": "stderr",
     "output_type": "stream",
     "text": [
      "INFO:tensorflow:Assets written to: 1.mdl\\assets\n",
      "\u001B[32m[I 2022-11-26 10:52:01,831]\u001B[0m Trial 1 finished with value: 0.9790209531784058 and parameters: {'units': 20, 'activation': 'linear', 'rate': 0.0, 'learning_rate': 0.022443632103590478}. Best is trial 1 with value: 0.9790209531784058.\u001B[0m\n",
      "\u001B[32m[I 2022-11-26 10:52:03,514]\u001B[0m Trial 2 finished with value: 0.9090909361839294 and parameters: {'units': 8, 'activation': 'linear', 'rate': 0.1, 'learning_rate': 0.0007644195884251989}. Best is trial 1 with value: 0.9790209531784058.\u001B[0m\n",
      "\u001B[32m[I 2022-11-26 10:52:05,221]\u001B[0m Trial 3 finished with value: 0.6643356680870056 and parameters: {'units': 12, 'activation': 'relu', 'rate': 0.0, 'learning_rate': 1.2162494836688506e-05}. Best is trial 1 with value: 0.9790209531784058.\u001B[0m\n",
      "\u001B[32m[I 2022-11-26 10:52:07,135]\u001B[0m Trial 4 finished with value: 0.9650349617004395 and parameters: {'units': 20, 'activation': 'relu', 'rate': 0.0, 'learning_rate': 0.00467759117354365}. Best is trial 1 with value: 0.9790209531784058.\u001B[0m\n"
     ]
    }
   ],
   "source": [
    "best_accuracy_so_far = -100\n",
    "study = optuna.create_study(direction=\"maximize\")\n",
    "# be cautious with the number of trials: Do not use a number larger than 50\n",
    "# this call starts the hyperparameter optimization process: the above define function \"objective\" is called with\n",
    "# n_trials different hyperparameter combinations\n",
    "study.optimize(objective, n_trials=5, timeout=600)"
   ],
   "metadata": {
    "collapsed": false
   }
  },
  {
   "cell_type": "code",
   "execution_count": 7,
   "outputs": [
    {
     "name": "stdout",
     "output_type": "stream",
     "text": [
      "Number of finished trials: 5\n"
     ]
    }
   ],
   "source": [
    "print(\"Number of finished trials: {}\".format(len(study.trials)))"
   ],
   "metadata": {
    "collapsed": false
   }
  },
  {
   "cell_type": "markdown",
   "source": [
    "Analyse the best model and use it to predict accuracy on test data"
   ],
   "metadata": {
    "collapsed": false
   }
  },
  {
   "cell_type": "code",
   "execution_count": 8,
   "outputs": [
    {
     "name": "stdout",
     "output_type": "stream",
     "text": [
      "Best trial:\n",
      "FrozenTrial(number=1, values=[0.9790209531784058], datetime_start=datetime.datetime(2022, 11, 26, 10, 51, 58, 960456), datetime_complete=datetime.datetime(2022, 11, 26, 10, 52, 1, 831559), params={'units': 20, 'activation': 'linear', 'rate': 0.0, 'learning_rate': 0.022443632103590478}, distributions={'units': IntDistribution(high=24, log=False, low=8, step=4), 'activation': CategoricalDistribution(choices=('relu', 'linear')), 'rate': FloatDistribution(high=0.1, log=False, low=0.0, step=0.1), 'learning_rate': FloatDistribution(high=0.1, log=True, low=1e-05, step=None)}, user_attrs={}, system_attrs={}, intermediate_values={}, trial_id=1, state=TrialState.COMPLETE, value=None)\n",
      "  Value: 0.9790209531784058\n",
      "  Params: \n",
      "    units: 20\n",
      "    activation: linear\n",
      "    rate: 0.0\n",
      "    learning_rate: 0.022443632103590478\n"
     ]
    }
   ],
   "source": [
    "print(\"Best trial:\")\n",
    "trial = study.best_trial\n",
    "print(trial)\n",
    "\n",
    "print(\"  Value: {}\".format(trial.value))\n",
    "\n",
    "print(\"  Params: \")\n",
    "for key, value in trial.params.items():\n",
    "    print(\"    {}: {}\".format(key, value))"
   ],
   "metadata": {
    "collapsed": false
   }
  },
  {
   "cell_type": "markdown",
   "source": [
    "Load the best model. This model was saved in the function \"objective\"."
   ],
   "metadata": {
    "collapsed": false
   }
  },
  {
   "cell_type": "code",
   "execution_count": 9,
   "outputs": [],
   "source": [
    "best_model = tf.keras.models.load_model('{0}.mdl'.format(trial.number))"
   ],
   "metadata": {
    "collapsed": false
   }
  },
  {
   "cell_type": "markdown",
   "source": [
    "### Return performance of final model on new data (test data)\n",
    "TODO: only load test data here, that you get a few days before the deadline."
   ],
   "metadata": {
    "collapsed": false
   }
  },
  {
   "cell_type": "code",
   "execution_count": 10,
   "outputs": [],
   "source": [
    "cancer = load_breast_cancer()\n",
    "\n",
    "X_test = cancer['data']\n",
    "y_test = cancer['target']\n",
    "\n",
    "scaler = pickle.load(open(\"scaler.p\", \"rb\"))\n",
    "# important: preprocessing of test dataset has to be the same as for the training dataset\n",
    "X_test = scaler.transform(X_test)"
   ],
   "metadata": {
    "collapsed": false
   }
  },
  {
   "cell_type": "markdown",
   "source": [
    "Predicting the Test set results"
   ],
   "metadata": {
    "collapsed": false
   }
  },
  {
   "cell_type": "code",
   "execution_count": 11,
   "outputs": [
    {
     "name": "stdout",
     "output_type": "stream",
     "text": [
      "18/18 [==============================] - 0s 2ms/step\n",
      "[[1.0000000e+00 7.4801951e-18]\n",
      " [9.9999982e-01 1.3748935e-08]\n",
      " [1.0000000e+00 2.9152299e-14]\n",
      " ...\n",
      " [9.9981207e-01 4.7007539e-05]\n",
      " [1.0000000e+00 2.2898532e-22]\n",
      " [9.6078031e-04 9.9964565e-01]]\n"
     ]
    }
   ],
   "source": [
    "y_pred = best_model.predict(X_test)\n",
    "print(y_pred)\n",
    "# create labels out of predictions\n",
    "y_pred_labels = np.argmax(y_pred, axis=1)"
   ],
   "metadata": {
    "collapsed": false
   }
  },
  {
   "cell_type": "markdown",
   "source": [
    "Making the Confusion Matrix"
   ],
   "metadata": {
    "collapsed": false
   }
  },
  {
   "cell_type": "code",
   "execution_count": 12,
   "outputs": [
    {
     "name": "stdout",
     "output_type": "stream",
     "text": [
      "Our accuracy is 98.76977152899823%\n"
     ]
    }
   ],
   "source": [
    "cm = confusion_matrix(y_test, y_pred_labels)\n",
    "\n",
    "print(\"Our accuracy is {}%\".format(((cm[0][0] + cm[1][1]) / cm.sum()) * 100))"
   ],
   "metadata": {
    "collapsed": false
   }
  },
  {
   "cell_type": "markdown",
   "source": [
    "Plot heatmap"
   ],
   "metadata": {
    "collapsed": false
   }
  },
  {
   "cell_type": "code",
   "execution_count": 13,
   "outputs": [
    {
     "name": "stdout",
     "output_type": "stream",
     "text": [
      "              precision    recall  f1-score   support\n",
      "\n",
      "           0       0.99      0.98      0.98       212\n",
      "           1       0.99      0.99      0.99       357\n",
      "\n",
      "    accuracy                           0.99       569\n",
      "   macro avg       0.99      0.99      0.99       569\n",
      "weighted avg       0.99      0.99      0.99       569\n",
      "\n"
     ]
    },
    {
     "data": {
      "text/plain": "<Figure size 640x480 with 2 Axes>",
      "image/png": "[encoded data removed]"
     },
     "metadata": {},
     "output_type": "display_data"
    }
   ],
   "source": [
    "sns.heatmap(cm, annot=True)\n",
    "plt.savefig('confmat.png')\n",
    "\n",
    "print(classification_report(y_test, y_pred_labels))"
   ],
   "metadata": {
    "collapsed": false
   }
  },
  {
   "cell_type": "code",
   "execution_count": null,
   "outputs": [],
   "source": [],
   "metadata": {
    "collapsed": false
   }
  }
 ],
 "metadata": {
  "kernelspec": {
   "display_name": "Python 3",
   "language": "python",
   "name": "python3"
  },
  "language_info": {
   "codemirror_mode": {
    "name": "ipython",
    "version": 2
   },
   "file_extension": ".py",
   "mimetype": "text/x-python",
   "name": "python",
   "nbconvert_exporter": "python",
   "pygments_lexer": "ipython2",
   "version": "2.7.6"
  }
 },
 "nbformat": 4,
 "nbformat_minor": 0
}
